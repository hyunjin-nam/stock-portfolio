{
 "cells": [
  {
   "cell_type": "markdown",
   "id": "62dd0bfa",
   "metadata": {},
   "source": [
    "## Data Preparation"
   ]
  },
  {
   "cell_type": "markdown",
   "id": "aeb58f2b",
   "metadata": {},
   "source": [
    "### read data"
   ]
  },
  {
   "cell_type": "code",
   "execution_count": 80,
   "id": "42c471be",
   "metadata": {},
   "outputs": [],
   "source": [
    "###############################################################################\n",
    "#                          1. Importing Libraries                             #\n",
    "###############################################################################\n",
    "# For reading, processing, and visualizing data\n",
    "import numpy as np\n",
    "import pandas as pd\n",
    "import seaborn as sns\n",
    "%matplotlib inline\n",
    "import matplotlib.pyplot as plt\n",
    "import matplotlib.patches as mpatches\n",
    "import matplotlib.dates as mdates\n",
    "import datetime\n",
    "from datetime import datetime as dt\n",
    "\n",
    "# To make candlestick charts\n",
    "from mplfinance.original_flavor import candlestick_ohlc\n",
    "# import mplfinance as mpl\n",
    "# To grab stock data\n",
    "import yfinance as fyf\n",
    "from pandas_datareader import data as pdr\n",
    "fyf.pdr_override() # <-- Here is the fix\n",
    "\n",
    "# For reading files\n",
    "from os import listdir"
   ]
  },
  {
   "cell_type": "code",
   "execution_count": 65,
   "id": "fcb5272a",
   "metadata": {},
   "outputs": [
    {
     "name": "stdout",
     "output_type": "stream",
     "text": [
      "          Date  DateNum  Account      Type      Company  Amount    Price  \\\n",
      "0   2021-04-23  18740.0  Nam ISK      Sell  NVIDIA Corp      -1  603.330   \n",
      "1   2021-04-01  18718.0  Nam ISK  Dividend  NVIDIA Corp       1    1.394   \n",
      "2   2021-02-09  18667.0  Nam ISK       Buy  NVIDIA Corp       1  574.190   \n",
      "3   2021-03-11  18697.0  Nam ISK       Buy    Boeing Co       1  254.000   \n",
      "4   2021-02-22  18680.0  Nam ISK       Buy    Boeing Co       1  219.390   \n",
      "5   2021-02-03  18661.0  Nam ISK       Buy    Boeing Co       1  206.310   \n",
      "6   2020-08-24  18498.0  Nam ISK      Sell    Boeing Co      -1  168.540   \n",
      "7   2020-04-29  18381.0  Nam ISK       Buy    Boeing Co       1  135.700   \n",
      "8   2021-05-14  18761.0  Nam ISK  Dividend    Apple Inc      11    1.837   \n",
      "9   2021-02-12  18670.0  Nam ISK  Dividend    Apple Inc      11    1.703   \n",
      "10  2021-02-01  18659.0  Nam ISK       Buy    Apple Inc       1  131.950   \n",
      "11  2020-11-13  18579.0  Nam ISK  Dividend    Apple Inc      10    1.775   \n",
      "12  2020-10-29  18564.0  Nam ISK      Sell    Apple Inc      -9  116.100   \n",
      "13  2020-09-14  18519.0  Nam ISK       Buy    Apple Inc       1  114.950   \n",
      "14  2020-09-09  18514.0  Nam ISK       Buy    Apple Inc       2  116.470   \n",
      "15  2020-08-28  18502.0  Nam ISK     Other    Apple Inc      12      NaN   \n",
      "16  2020-08-25  18499.0  Nam ISK       Buy    Apple Inc       1  495.000   \n",
      "17  2020-08-14  18488.0  Nam ISK  Dividend    Apple Inc       2    7.125   \n",
      "18  2020-08-11  18485.0  Nam ISK       Buy    Apple Inc       1  448.000   \n",
      "19  2020-08-04  18478.0  Nam ISK       Buy    Apple Inc       1  435.450   \n",
      "20  2020-05-19  18401.0  Nam ISK       Buy    Apple Inc       1  316.900   \n",
      "\n",
      "    TotalValueChange  Courtage Currency          ISIN  \n",
      "0            5030.00      13.0      SEK  US67066G1040  \n",
      "1               1.39       NaN      SEK  US67066G1040  \n",
      "2           -4806.00      12.0      SEK  US67066G1040  \n",
      "3           -2158.00       8.0      SEK  US0970231058  \n",
      "4           -1829.00       8.0      SEK  US0970231058  \n",
      "5           -1746.00       8.0      SEK  US0970231058  \n",
      "6            1469.00       9.0      SEK  US0970231058  \n",
      "7           -1349.00      10.0      SEK  US0970231058  \n",
      "8              20.21       NaN      SEK  US0378331005  \n",
      "9              18.73       NaN      SEK  US0378331005  \n",
      "10          -1123.00       8.0      SEK  US0378331005  \n",
      "11             17.74       NaN      SEK  US0378331005  \n",
      "12           9279.00      23.0      SEK  US0378331005  \n",
      "13          -1020.00       9.0      SEK  US0378331005  \n",
      "14          -2051.00       9.0      SEK  US0378331005  \n",
      "15               NaN       NaN      NaN  US0378331005  \n",
      "16          -4356.00      11.0      SEK  US0378331005  \n",
      "17             14.24       NaN      SEK  US0378331005  \n",
      "18          -3948.00      10.0      SEK  US0378331005  \n",
      "19          -3819.00      10.0      SEK  US0378331005  \n",
      "20          -3088.00      10.0      SEK  US0378331005  \n"
     ]
    }
   ],
   "source": [
    "# Import data\n",
    "avanza_data = pd.read_csv('sample_data.csv', encoding='utf-8')\n",
    "\n",
    "# Translate to english\n",
    "avanza_data.rename(columns={'Datum': 'Date', \n",
    "                            'Konto': 'Account',\n",
    "                            'Typ av transaktion': 'Type',\n",
    "                            'Värdepapper/beskrivning': 'Company',\n",
    "                            'Antal': 'Amount',\n",
    "                            'Kurs': 'Price',\n",
    "                            'Belopp': 'TotalValueChange',\n",
    "                            'Valuta': 'Currency'}, \n",
    "                   inplace=True)\n",
    "\n",
    "avanza_data.replace({'Type' :\n",
    "    {'Sälj': 'Sell',\n",
    "     'Köp' : 'Buy',\n",
    "     'Utdelning': 'Dividend',\n",
    "     'Övrigt' : 'Other'}}, \n",
    "    inplace=True)\n",
    "\n",
    "# Change date format and add column with numeric date values\n",
    "avanza_data['Date'] = pd.to_datetime(avanza_data['Date'], format='%Y/%M/%d').dt.strftime('%Y-%M-%d')\n",
    "avanza_data.insert(1, 'DateNum', mdates.date2num(avanza_data['Date']))\n",
    "\n",
    "# Convert data types from string to numeric\n",
    "avanza_data.replace('-', 'NaN', inplace=True)\n",
    "avanza_data[['Price', 'TotalValueChange', 'Courtage']] = avanza_data[['Price', 'TotalValueChange', 'Courtage']].apply(pd.to_numeric, errors='coerce')\n",
    "print(avanza_data)"
   ]
  },
  {
   "cell_type": "code",
   "execution_count": 66,
   "id": "181a4e60",
   "metadata": {},
   "outputs": [
    {
     "name": "stdout",
     "output_type": "stream",
     "text": [
      "         Date  DateNum  Account  Type    Company  Amount   Price  \\\n",
      "3  2021-03-11  18697.0  Nam ISK   Buy  Boeing Co       1  254.00   \n",
      "4  2021-02-22  18680.0  Nam ISK   Buy  Boeing Co       1  219.39   \n",
      "5  2021-02-03  18661.0  Nam ISK   Buy  Boeing Co       1  206.31   \n",
      "6  2020-08-24  18498.0  Nam ISK  Sell  Boeing Co      -1  168.54   \n",
      "7  2020-04-29  18381.0  Nam ISK   Buy  Boeing Co       1  135.70   \n",
      "\n",
      "   TotalValueChange  Courtage Currency          ISIN  \n",
      "3           -2158.0       8.0      SEK  US0970231058  \n",
      "4           -1829.0       8.0      SEK  US0970231058  \n",
      "5           -1746.0       8.0      SEK  US0970231058  \n",
      "6            1469.0       9.0      SEK  US0970231058  \n",
      "7           -1349.0      10.0      SEK  US0970231058  \n"
     ]
    }
   ],
   "source": [
    "transaction_data = avanza_data.loc[avanza_data['Company'] == 'Boeing Co']\n",
    "print(transaction_data)"
   ]
  },
  {
   "cell_type": "markdown",
   "id": "cee4a711",
   "metadata": {},
   "source": [
    "### read stock data"
   ]
  },
  {
   "cell_type": "code",
   "execution_count": 67,
   "id": "8276d9f0",
   "metadata": {},
   "outputs": [
    {
     "name": "stdout",
     "output_type": "stream",
     "text": [
      "[*********************100%***********************]  1 of 1 completed\n",
      "          Date  DateNum        Open        High         Low       Close  \\\n",
      "0   2019-12-31  18261.0  325.410004  326.570007  323.320007  325.760010   \n",
      "1   2020-01-02  18263.0  328.549988  333.350006  327.700012  333.320007   \n",
      "2   2020-01-03  18264.0  330.630005  334.890015  330.299988  332.760010   \n",
      "3   2020-01-06  18267.0  329.299988  334.859985  327.880005  333.739990   \n",
      "4   2020-01-07  18268.0  334.260010  344.190002  330.709991  337.279999   \n",
      "..         ...      ...         ...         ...         ...         ...   \n",
      "372 2021-06-23  18801.0  244.800003  246.869995  243.169998  243.570007   \n",
      "373 2021-06-24  18802.0  245.199997  250.740005  243.699997  250.570007   \n",
      "374 2021-06-25  18803.0  250.750000  252.300003  248.250000  248.380005   \n",
      "375 2021-06-28  18806.0  244.729996  245.080002  238.880005  239.960007   \n",
      "376 2021-06-29  18807.0  243.740005  244.369995  235.660004  235.759995   \n",
      "\n",
      "       AdjClose    Volume  \n",
      "0    323.833313   4958800  \n",
      "1    331.348572   4544400  \n",
      "2    330.791901   3875900  \n",
      "3    331.766083   5355000  \n",
      "4    335.285156   9898600  \n",
      "..          ...       ...  \n",
      "372  243.570007   9874700  \n",
      "373  250.570007  13755600  \n",
      "374  248.380005   9625800  \n",
      "375  239.960007  18152000  \n",
      "376  235.759995  16743900  \n",
      "\n",
      "[377 rows x 8 columns]\n"
     ]
    }
   ],
   "source": [
    "# Set label\n",
    "stocks = [\"BA\"] # If you want to grab multiple stocks add more labels to this list\n",
    "\n",
    "# Set start and end dates\n",
    "start = datetime.datetime(2020, 1, 1)\n",
    "end   = datetime.datetime(2021, 6, 30)\n",
    "\n",
    "# Grab data\n",
    "yahoo_data = pdr.get_data_yahoo(stocks, start = start, end = end)\n",
    "\n",
    "# Remove space from column names\n",
    "yahoo_data.rename(columns={'Adj Close': 'AdjClose'}, inplace=True)\n",
    "\n",
    "# Change to numeric index and add date columns\n",
    "yahoo_data = yahoo_data.reset_index()\n",
    "yahoo_data.insert(1, 'DateNum', mdates.date2num(yahoo_data['Date']))\n",
    "print(yahoo_data)"
   ]
  },
  {
   "cell_type": "code",
   "execution_count": 73,
   "id": "34173be3",
   "metadata": {},
   "outputs": [
    {
     "name": "stdout",
     "output_type": "stream",
     "text": [
      "          Date  DateNum        Open        High         Low       Close  \\\n",
      "0   2019-12-31  18261.0  325.410004  326.570007  323.320007  325.760010   \n",
      "1   2020-01-02  18263.0  328.549988  333.350006  327.700012  333.320007   \n",
      "2   2020-01-03  18264.0  330.630005  334.890015  330.299988  332.760010   \n",
      "3   2020-01-06  18267.0  329.299988  334.859985  327.880005  333.739990   \n",
      "4   2020-01-07  18268.0  334.260010  344.190002  330.709991  337.279999   \n",
      "..         ...      ...         ...         ...         ...         ...   \n",
      "372 2021-06-23  18801.0  244.800003  246.869995  243.169998  243.570007   \n",
      "373 2021-06-24  18802.0  245.199997  250.740005  243.699997  250.570007   \n",
      "374 2021-06-25  18803.0  250.750000  252.300003  248.250000  248.380005   \n",
      "375 2021-06-28  18806.0  244.729996  245.080002  238.880005  239.960007   \n",
      "376 2021-06-29  18807.0  243.740005  244.369995  235.660004  235.759995   \n",
      "\n",
      "       AdjClose    Volume Account Type Company  Amount  Price  \\\n",
      "0    323.833313   4958800     NaN  NaN     NaN     NaN    NaN   \n",
      "1    331.348572   4544400     NaN  NaN     NaN     NaN    NaN   \n",
      "2    330.791901   3875900     NaN  NaN     NaN     NaN    NaN   \n",
      "3    331.766083   5355000     NaN  NaN     NaN     NaN    NaN   \n",
      "4    335.285156   9898600     NaN  NaN     NaN     NaN    NaN   \n",
      "..          ...       ...     ...  ...     ...     ...    ...   \n",
      "372  243.570007   9874700     NaN  NaN     NaN     NaN    NaN   \n",
      "373  250.570007  13755600     NaN  NaN     NaN     NaN    NaN   \n",
      "374  248.380005   9625800     NaN  NaN     NaN     NaN    NaN   \n",
      "375  239.960007  18152000     NaN  NaN     NaN     NaN    NaN   \n",
      "376  235.759995  16743900     NaN  NaN     NaN     NaN    NaN   \n",
      "\n",
      "     TotalValueChange  Courtage Currency ISIN  \n",
      "0                 NaN       NaN      NaN  NaN  \n",
      "1                 NaN       NaN      NaN  NaN  \n",
      "2                 NaN       NaN      NaN  NaN  \n",
      "3                 NaN       NaN      NaN  NaN  \n",
      "4                 NaN       NaN      NaN  NaN  \n",
      "..                ...       ...      ...  ...  \n",
      "372               NaN       NaN      NaN  NaN  \n",
      "373               NaN       NaN      NaN  NaN  \n",
      "374               NaN       NaN      NaN  NaN  \n",
      "375               NaN       NaN      NaN  NaN  \n",
      "376               NaN       NaN      NaN  NaN  \n",
      "\n",
      "[377 rows x 17 columns]\n"
     ]
    }
   ],
   "source": [
    "# Merge transaction and Yahoo data frames\n",
    "combined_data = yahoo_data.merge(transaction_data, on='DateNum', how='left')\n",
    "combined_data.drop(columns='Date_y', inplace=True)\n",
    "combined_data.rename(columns={'Date_x': 'Date'}, inplace=True)\n",
    "print(combined_data)"
   ]
  },
  {
   "cell_type": "markdown",
   "id": "32c951f8",
   "metadata": {},
   "source": [
    "## Visualization"
   ]
  },
  {
   "cell_type": "code",
   "execution_count": 82,
   "id": "79acd9f3",
   "metadata": {},
   "outputs": [],
   "source": [
    "###############################################################################\n",
    "#              4a. Visualize Data: Prepare data for Candlestick Chart         #\n",
    "###############################################################################\n",
    "# Get Open, High, Low, Close\n",
    "ADI_candle = combined_data.iloc[:, [1, 2, 3, 4, 5]] # Analog Devices\n",
    "\n",
    "# Get dates\n",
    "# dates = combined_data['DateNum']\n",
    "\n",
    "# Add dates column to OHLC DataFrames\n",
    "# ADI_candle = pd.concat([dates, ADI_candle], axis = 1)"
   ]
  },
  {
   "cell_type": "code",
   "execution_count": 87,
   "id": "e34abe24",
   "metadata": {},
   "outputs": [],
   "source": [
    "# Prepare our data\n",
    "x_buy = []\n",
    "y_buy = []\n",
    "x_sell = []\n",
    "y_sell = []\n",
    "for (d,v,t) in zip(combined_data['DateNum'], combined_data['Price'], combined_data['Type']):\n",
    "    if t == 'Buy':\n",
    "#         x_buy.append(mdates.date2num(dt.strptime(d, '%Y/%m/%d')))\n",
    "        x_buy.append(d)\n",
    "        y_buy.append(float(v))\n",
    "    if t == 'Sell':\n",
    "#         x_sell.append(mdates.date2num(dt.strptime(d, '%Y/%m/%d')))\n",
    "        x_sell.append(d)\n",
    "        y_sell.append(float(v))"
   ]
  },
  {
   "cell_type": "code",
   "execution_count": 89,
   "id": "4646395e",
   "metadata": {},
   "outputs": [
    {
     "data": {
      "image/png": "[encoded data removed]",
      "text/plain": [
       "<Figure size 936x468 with 1 Axes>"
      ]
     },
     "metadata": {
      "needs_background": "light"
     },
     "output_type": "display_data"
    }
   ],
   "source": [
    "###############################################################################\n",
    "#                 4b. Visualize Data: Make Candlestick Chart                  #\n",
    "###############################################################################\n",
    "# Define time interval to consider\n",
    "start_date = datetime.date(2020, 1, 1) # Year-Month-Day\n",
    "end_date   = datetime.date(2021, 6, 30)\n",
    "\n",
    "# Create figure\n",
    "fig, ax = plt.subplots(figsize=(13, 6.5))\n",
    "\n",
    "# Plot ADI_OHLC data\n",
    "candlestick_ohlc(ax, ADI_candle.values.tolist(), \n",
    "                 width=.6, \n",
    "                 colorup='green',\n",
    "                 colordown='red')\n",
    "\n",
    "# Plot our data\n",
    "ax.plot(x_buy, y_buy, 'bo')\n",
    "ax.plot(x_sell, y_sell, 'yo')\n",
    "\n",
    "# Set x and y axis limits\n",
    "ax.set_xlim([start_date, end_date])\n",
    "# ax.set_ylim([60, 69])\n",
    "\n",
    "# Set axis labels\n",
    "ax.set_ylabel(\"Price ($)\", fontsize = 20)\n",
    "\n",
    "# Rotate tick labels\n",
    "xlabels = ax.get_xticklabels()\n",
    "# ax.set_xticklabels(xlabels, rotation = 45, fontsize = 14)\n",
    "\n",
    "# Change x-axis tick label fromat\n",
    "ax.xaxis.set_major_formatter(mdates.DateFormatter('%y%m%d'))\n",
    "\n",
    "# Send gridlines to back\n",
    "ax.set_axisbelow(True)\n",
    "\n",
    "# Tight layout\n",
    "plt.tight_layout()\n"
   ]
  },
  {
   "cell_type": "code",
   "execution_count": null,
   "id": "29805e03",
   "metadata": {},
   "outputs": [],
   "source": []
  },
  {
   "cell_type": "markdown",
   "id": "1f3931ea",
   "metadata": {},
   "source": [
    "ref: https://medium.com/analytics-vidhya/stock-market-trends-b24203484e0f"
   ]
  }
 ],
 "metadata": {
  "jupytext": {
   "encoding": "# -*- coding: utf-8 -*-",
   "formats": "ipynb,py:light"
  },
  "kernelspec": {
   "display_name": "Python 3 (ipykernel)",
   "language": "python",
   "name": "python3"
  },
  "language_info": {
   "codemirror_mode": {
    "name": "ipython",
    "version": 3
   },
   "file_extension": ".py",
   "mimetype": "text/x-python",
   "name": "python",
   "nbconvert_exporter": "python",
   "pygments_lexer": "ipython3",
   "version": "3.8.8"
  }
 },
 "nbformat": 4,
 "nbformat_minor": 5
}
