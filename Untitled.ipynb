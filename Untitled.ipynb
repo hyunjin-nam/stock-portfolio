{
 "cells": [
  {
   "cell_type": "code",
   "execution_count": 50,
   "id": "508c65c2",
   "metadata": {},
   "outputs": [
    {
     "name": "stdout",
     "output_type": "stream",
     "text": [
      "         Datum    Konto Typ av transaktion Värdepapper/beskrivning  Antal  \\\n",
      "0   2021/04/23  Nam ISK               Sälj             NVIDIA Corp     -1   \n",
      "1   2021/04/01  Nam ISK          Utdelning             NVIDIA Corp      1   \n",
      "2   2021/02/09  Nam ISK                Köp             NVIDIA Corp      1   \n",
      "3   2021/03/11  Nam ISK                Köp               Boeing Co      1   \n",
      "4   2021/02/22  Nam ISK                Köp               Boeing Co      1   \n",
      "5   2021/02/03  Nam ISK                Köp               Boeing Co      1   \n",
      "6   2020/08/24  Nam ISK               Sälj               Boeing Co     -1   \n",
      "7   2020/04/29  Nam ISK                Köp               Boeing Co      1   \n",
      "8   2021/05/14  Nam ISK          Utdelning               Apple Inc     11   \n",
      "9   2021/02/12  Nam ISK          Utdelning               Apple Inc     11   \n",
      "10  2021/02/01  Nam ISK                Köp               Apple Inc      1   \n",
      "11  2020/11/13  Nam ISK          Utdelning               Apple Inc     10   \n",
      "12  2020/10/29  Nam ISK               Sälj               Apple Inc     -9   \n",
      "13  2020/09/14  Nam ISK                Köp               Apple Inc      1   \n",
      "14  2020/09/09  Nam ISK                Köp               Apple Inc      2   \n",
      "15  2020/08/28  Nam ISK             Övrigt               Apple Inc     12   \n",
      "16  2020/08/25  Nam ISK                Köp               Apple Inc      1   \n",
      "17  2020/08/14  Nam ISK          Utdelning               Apple Inc      2   \n",
      "18  2020/08/11  Nam ISK                Köp               Apple Inc      1   \n",
      "19  2020/08/04  Nam ISK                Köp               Apple Inc      1   \n",
      "20  2020/05/19  Nam ISK                Köp               Apple Inc      1   \n",
      "\n",
      "      Kurs Belopp Courtage Valuta          ISIN  \n",
      "0   603.33   5030       13    SEK  US67066G1040  \n",
      "1    1.394   1.39        -    SEK  US67066G1040  \n",
      "2   574.19  -4806       12    SEK  US67066G1040  \n",
      "3      254  -2158        8    SEK  US0970231058  \n",
      "4   219.39  -1829        8    SEK  US0970231058  \n",
      "5   206.31  -1746        8    SEK  US0970231058  \n",
      "6   168.54   1469        9    SEK  US0970231058  \n",
      "7    135.7  -1349       10    SEK  US0970231058  \n",
      "8    1.837  20.21        -    SEK  US0378331005  \n",
      "9    1.703  18.73        -    SEK  US0378331005  \n",
      "10  131.95  -1123        8    SEK  US0378331005  \n",
      "11   1.775  17.74        -    SEK  US0378331005  \n",
      "12   116.1   9279       23    SEK  US0378331005  \n",
      "13  114.95  -1020        9    SEK  US0378331005  \n",
      "14  116.47  -2051        9    SEK  US0378331005  \n",
      "15       -      -        -      -  US0378331005  \n",
      "16     495  -4356       11    SEK  US0378331005  \n",
      "17   7.125  14.24        -    SEK  US0378331005  \n",
      "18     448  -3948       10    SEK  US0378331005  \n",
      "19  435.45  -3819       10    SEK  US0378331005  \n",
      "20   316.9  -3088       10    SEK  US0378331005  \n"
     ]
    }
   ],
   "source": [
    "import pandas\n",
    "df = pandas.read_csv('sample_data.csv', encoding='utf-8')\n",
    "df.rename(columns={'Värdepapper/beskrivning': 'company'}, inplace=True)"
   ]
  },
  {
   "cell_type": "code",
   "execution_count": 59,
   "id": "d780d59b",
   "metadata": {},
   "outputs": [],
   "source": [
    "data_apple = df[df.company == 'Apple Inc']"
   ]
  },
  {
   "cell_type": "code",
   "execution_count": 60,
   "id": "ae459436",
   "metadata": {},
   "outputs": [
    {
     "ename": "ImportError",
     "evalue": "cannot import name 'Stocker' from 'stocker' (/Users/hyunjinnam/opt/anaconda3/lib/python3.8/site-packages/stocker/__init__.py)",
     "output_type": "error",
     "traceback": [
      "\u001b[0;31m---------------------------------------------------------------------------\u001b[0m",
      "\u001b[0;31mImportError\u001b[0m                               Traceback (most recent call last)",
      "\u001b[0;32m<ipython-input-60-9e12cbc46e45>\u001b[0m in \u001b[0;36m<module>\u001b[0;34m\u001b[0m\n\u001b[0;32m----> 1\u001b[0;31m \u001b[0;32mfrom\u001b[0m \u001b[0mstocker\u001b[0m \u001b[0;32mimport\u001b[0m \u001b[0mStocker\u001b[0m\u001b[0;34m\u001b[0m\u001b[0;34m\u001b[0m\u001b[0m\n\u001b[0m",
      "\u001b[0;31mImportError\u001b[0m: cannot import name 'Stocker' from 'stocker' (/Users/hyunjinnam/opt/anaconda3/lib/python3.8/site-packages/stocker/__init__.py)"
     ]
    }
   ],
   "source": [
    "from stocker import Stocker"
   ]
  }
 ],
 "metadata": {
  "kernelspec": {
   "display_name": "Python 3",
   "language": "python",
   "name": "python3"
  },
  "language_info": {
   "codemirror_mode": {
    "name": "ipython",
    "version": 3
   },
   "file_extension": ".py",
   "mimetype": "text/x-python",
   "name": "python",
   "nbconvert_exporter": "python",
   "pygments_lexer": "ipython3",
   "version": "3.8.8"
  }
 },
 "nbformat": 4,
 "nbformat_minor": 5
}
