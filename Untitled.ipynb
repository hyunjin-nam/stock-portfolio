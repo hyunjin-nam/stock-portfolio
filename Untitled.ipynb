{
 "cells": [
  {
   "cell_type": "markdown",
   "id": "ada96320",
   "metadata": {},
   "source": [
    "## Data Preparation"
   ]
  },
  {
   "cell_type": "markdown",
   "id": "7c1bb159",
   "metadata": {},
   "source": [
    "### read data"
   ]
  },
  {
   "cell_type": "code",
   "execution_count": 63,
   "id": "544cd989",
   "metadata": {},
   "outputs": [],
   "source": [
    "import pandas\n",
    "df = pandas.read_csv('sample_data.csv', encoding='utf-8')\n",
    "df.rename(columns={'Värdepapper/beskrivning': 'company'}, inplace=True)"
   ]
  },
  {
   "cell_type": "code",
   "execution_count": 59,
   "id": "c38926a8",
   "metadata": {},
   "outputs": [],
   "source": [
    "data_apple = df[df.company == 'Apple Inc']"
   ]
  },
  {
   "cell_type": "markdown",
   "id": "30eb062d",
   "metadata": {},
   "source": [
    "### read stock data"
   ]
  },
  {
   "cell_type": "code",
   "execution_count": 65,
   "id": "cbeabcf0",
   "metadata": {},
   "outputs": [],
   "source": [
    "# To create datetime objects \n",
    "import datetime\n",
    "\n",
    "# To grab stock data\n",
    "import yfinance as fyf\n",
    "from pandas_datareader import data as pdr\n",
    "fyf.pdr_override() # <-- Here is the fix"
   ]
  },
  {
   "cell_type": "code",
   "execution_count": 67,
   "id": "d836bad3",
   "metadata": {},
   "outputs": [
    {
     "name": "stdout",
     "output_type": "stream",
     "text": [
      "[*********************100%***********************]  1 of 1 completed\n",
      "                 Open       High        Low      Close  Adj Close     Volume\n",
      "Date                                                                        \n",
      "2012-12-31  18.233213  19.121429  18.178572  19.006071  16.488508  659492400\n",
      "2013-01-02  19.779285  19.821428  19.343929  19.608213  17.010899  560518000\n",
      "2013-01-03  19.567142  19.631071  19.321428  19.360714  16.796177  352965200\n",
      "2013-01-04  19.177500  19.236786  18.779642  18.821428  16.328323  594333600\n",
      "2013-01-07  18.642857  18.903570  18.400000  18.710714  16.232281  484156400\n",
      "...               ...        ...        ...        ...        ...        ...\n",
      "2018-03-02  43.200001  44.075001  43.112499  44.052502  42.429626  153816000\n",
      "2018-03-05  43.802502  44.435001  43.630001  44.205002  42.576511  113605600\n",
      "2018-03-06  44.477501  44.562500  44.032501  44.167500  42.540394   95154000\n",
      "2018-03-07  43.735001  43.962502  43.567501  43.757500  42.145489  126814000\n",
      "2018-03-08  43.869999  44.279999  43.767502  44.235001  42.605404   95096400\n",
      "\n",
      "[1306 rows x 6 columns]\n"
     ]
    }
   ],
   "source": [
    "# Set label\n",
    "stocks = [\"AAPL\"] # If you want to grab multiple stocks add more labels to this list\n",
    "\n",
    "# Set start and end dates\n",
    "start = datetime.datetime(2013, 1, 1)\n",
    "end   = datetime.datetime(2018, 3, 9)\n",
    "\n",
    "# Grab data\n",
    "data = pdr.get_data_yahoo(stocks, start = start, end = end)\n",
    "print(data)"
   ]
  },
  {
   "cell_type": "code",
   "execution_count": 68,
   "id": "b2bbf375",
   "metadata": {},
   "outputs": [
    {
     "ename": "ModuleNotFoundError",
     "evalue": "No module named 'mpl_finance'",
     "output_type": "error",
     "traceback": [
      "\u001b[0;31m---------------------------------------------------------------------------\u001b[0m",
      "\u001b[0;31mModuleNotFoundError\u001b[0m                       Traceback (most recent call last)",
      "\u001b[0;32m<ipython-input-68-acbca271f18a>\u001b[0m in \u001b[0;36m<module>\u001b[0;34m\u001b[0m\n\u001b[1;32m     12\u001b[0m \u001b[0;34m\u001b[0m\u001b[0m\n\u001b[1;32m     13\u001b[0m \u001b[0;31m# To make candlestick charts\u001b[0m\u001b[0;34m\u001b[0m\u001b[0;34m\u001b[0m\u001b[0;34m\u001b[0m\u001b[0m\n\u001b[0;32m---> 14\u001b[0;31m \u001b[0;32mfrom\u001b[0m \u001b[0mmpl_finance\u001b[0m \u001b[0;32mimport\u001b[0m \u001b[0mcandlestick_ohlc\u001b[0m\u001b[0;34m\u001b[0m\u001b[0;34m\u001b[0m\u001b[0m\n\u001b[0m\u001b[1;32m     15\u001b[0m \u001b[0;34m\u001b[0m\u001b[0m\n\u001b[1;32m     16\u001b[0m \u001b[0;31m# For reading files\u001b[0m\u001b[0;34m\u001b[0m\u001b[0;34m\u001b[0m\u001b[0;34m\u001b[0m\u001b[0m\n",
      "\u001b[0;31mModuleNotFoundError\u001b[0m: No module named 'mpl_finance'"
     ]
    }
   ],
   "source": [
    "###############################################################################\n",
    "#                          1. Importing Libraries                             #\n",
    "###############################################################################\n",
    "# For reading, processing, and visualizing data\n",
    "import numpy as np\n",
    "import pandas as pd\n",
    "import seaborn as sns\n",
    "import matplotlib.pyplot as plt\n",
    "import matplotlib.patches as mpatches\n",
    "import matplotlib.dates as mdates\n",
    "import datetime\n",
    "\n",
    "# To make candlestick charts\n",
    "from mpl_finance import candlestick_ohlc\n",
    "\n",
    "# For reading files\n",
    "from os import listdir"
   ]
  }
 ],
 "metadata": {
  "kernelspec": {
   "display_name": "Python 3",
   "language": "python",
   "name": "python3"
  },
  "language_info": {
   "codemirror_mode": {
    "name": "ipython",
    "version": 3
   },
   "file_extension": ".py",
   "mimetype": "text/x-python",
   "name": "python",
   "nbconvert_exporter": "python",
   "pygments_lexer": "ipython3",
   "version": "3.8.8"
  }
 },
 "nbformat": 4,
 "nbformat_minor": 5
}
